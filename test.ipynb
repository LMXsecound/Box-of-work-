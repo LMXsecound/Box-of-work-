{
 "cells": [
  {
   "cell_type": "code",
   "execution_count": 8,
   "metadata": {},
   "outputs": [
    {
     "name": "stdout",
     "output_type": "stream",
     "text": [
      "Data loaded successfully: X_train=torch.Size([2455, 120, 23]),Y_train=tensor([0.2656, 0.0961, 0.2451,  ..., 0.0405, 0.2109, 0.2793],\n",
      "       dtype=torch.float64) X_val=torch.Size([540, 120, 23]) X_test=torch.Size([529, 120, 23])\n"
     ]
    }
   ],
   "source": [
    "import torch\n",
    "import numpy as np\n",
    "stock_name = '上海电气'\n",
    "X_train = torch.tensor(np.load(f'processed_{stock_name}_data.npz')['X_train'])\n",
    "X_val = torch.tensor(np.load(f'processed_{stock_name}_data.npz')['X_val'])\n",
    "X_test = torch.tensor(np.load(f'processed_{stock_name}_data.npz')['X_test'])\n",
    "y_train = torch.tensor(np.load(f'processed_{stock_name}_data.npz')['y_train'])\n",
    "y_val = torch.tensor(np.load(f'processed_{stock_name}_data.npz')['y_val'])\n",
    "y_test = torch.tensor(np.load(f'processed_{stock_name}_data.npz')['y_test'])\n",
    "\n",
    "print(f\"Data loaded successfully: X_train={X_train.shape},Y_train={y_train} X_val={X_val.shape} X_test={X_test.shape}\")"
   ]
  }
 ],
 "metadata": {
  "kernelspec": {
   "display_name": "pytorch",
   "language": "python",
   "name": "python3"
  },
  "language_info": {
   "codemirror_mode": {
    "name": "ipython",
    "version": 3
   },
   "file_extension": ".py",
   "mimetype": "text/x-python",
   "name": "python",
   "nbconvert_exporter": "python",
   "pygments_lexer": "ipython3",
   "version": "3.9.21"
  }
 },
 "nbformat": 4,
 "nbformat_minor": 2
}
